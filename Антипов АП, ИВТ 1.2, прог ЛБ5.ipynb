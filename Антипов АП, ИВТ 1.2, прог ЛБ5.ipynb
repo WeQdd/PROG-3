{
 "cells": [
  {
   "cell_type": "markdown",
   "metadata": {},
   "source": [
    "# Лабораторная работа №5\n",
    "## Антипов Арсений Павлович ИВТ 1.2 2 курс\n",
    "\n",
    "1.1 Создайте свой класс-итератор class RandomNumberIterator, который, в ходе итерирования по такому итератору, генерирует случайные числа в количестве и в диапазоне, которые передаются в конструктор в виде списка параметров."
   ]
  },
  {
   "cell_type": "code",
   "execution_count": 1,
   "metadata": {},
   "outputs": [
    {
     "name": "stdout",
     "output_type": "stream",
     "text": [
      "67\n",
      "33\n",
      "68\n",
      "83\n",
      "5\n",
      "12\n",
      "61\n",
      "15\n",
      "6\n",
      "62\n"
     ]
    }
   ],
   "source": [
    "\n",
    "import random\n",
    "\n",
    "class RandomNumberIterator:\n",
    "  def __init__(self):\n",
    "    self.num_index = 0\n",
    "\n",
    "  def __iter__(self):\n",
    "    return self\n",
    "\n",
    "  def __next__(self):\n",
    "    if self.num_index < 10:\n",
    "      self.num_index += 1\n",
    "      return random.randint(0, 100)\n",
    "    else:\n",
    "      raise StopIteration\n",
    "\n",
    "\n",
    "for num in RandomNumberIterator():\n",
    "  print(num)"
   ]
  },
  {
   "cell_type": "markdown",
   "metadata": {},
   "source": [
    "1.2 Решите задачу 1.1 уже с использованием генераторной функции, использующей ключевое слово yield. В качестве аргументов она должна принимать количество элементов и диапазон."
   ]
  },
  {
   "cell_type": "code",
   "execution_count": 2,
   "metadata": {},
   "outputs": [
    {
     "name": "stdout",
     "output_type": "stream",
     "text": [
      "59\n",
      "58\n",
      "62\n",
      "78\n",
      "62\n",
      "62\n",
      "18\n",
      "1\n",
      "55\n",
      "82\n"
     ]
    }
   ],
   "source": [
    "import random\n",
    "\n",
    "def RandomNumberGenerator():\n",
    "  num_index = 0\n",
    "  while num_index < 10:\n",
    "    num_index += 1\n",
    "    yield random.randint(0, 100)\n",
    "\n",
    "for num in RandomNumberGenerator():\n",
    "  print(num)"
   ]
  },
  {
   "cell_type": "markdown",
   "metadata": {},
   "source": [
    "1.3 Сделайте две функции-генератора. Первый генератор создаёт ряд Фибоначчи, а второй генератор добавляет значение 10 к каждому числу. Вызовете эти генераторы так, чтобы сгенерировать некоторое количество чисел Фибоначчи с добавлением числа 10 к каждому числу"
   ]
  },
  {
   "cell_type": "code",
   "execution_count": 3,
   "metadata": {},
   "outputs": [
    {
     "name": "stdout",
     "output_type": "stream",
     "text": [
      "10\n",
      "11\n",
      "11\n",
      "12\n",
      "13\n",
      "15\n",
      "18\n",
      "23\n",
      "31\n",
      "44\n",
      "65\n",
      "99\n",
      "154\n",
      "243\n",
      "387\n"
     ]
    }
   ],
   "source": [
    "def fibonacci():\n",
    "  a, b = 0, 1\n",
    "  while True:\n",
    "      yield a\n",
    "      a, b = b, a + b\n",
    "\n",
    "def add_ten(numbers):\n",
    "  for num in numbers:\n",
    "      yield num + 10\n",
    "\n",
    "fib_gen = fibonacci()\n",
    "fib_ten_gen = add_ten(fib_gen)\n",
    "\n",
    "for _ in range(15):\n",
    "    print(next(fib_ten_gen))"
   ]
  },
  {
   "cell_type": "markdown",
   "metadata": {},
   "source": [
    "1.4 Напишите программу, на вход к которой подается список стран и городов для каждой страны. Затем по названиям городов из ещё одного списка выводится в какой стране расположен каждый город."
   ]
  },
  {
   "cell_type": "code",
   "execution_count": 6,
   "metadata": {},
   "outputs": [
    {
     "name": "stdout",
     "output_type": "stream",
     "text": [
      "Мадрид находится в стране Испания\n",
      "Москва находится в стране Россия\n"
     ]
    }
   ],
   "source": [
    "coun_cit_dict = {}\n",
    "num_coun = int(input('Введите число стран: '))\n",
    "for i in range(num_coun):\n",
    "    coun, *cits = input(\"Введите страны и города (через пробел): \").split()\n",
    "    for cit in cits:\n",
    "      coun_cit_dict[cit] = coun\n",
    "\n",
    "num_cities = int(input(\"Введите число городов: \"))\n",
    "for _ in range(num_cities):\n",
    "    cit = input()\n",
    "    coun = coun_cit_dict.get(cit)\n",
    "    print(cit, \"находится в стране\", coun)"
   ]
  },
  {
   "cell_type": "markdown",
   "metadata": {},
   "source": [
    "2.1 Напишите класс менеджера контекста Timer, который умеет считать время в секундах, затраченное на некоторые вычисления внутри соответствующего блока with с помощью функции perf_counter модуля time. Используйте этот менеджер контекста для определения времени на вычисления достаточно большого количества чисел Фибоначчи (например миллиона) в цикле с помощью отдельной функции генератора."
   ]
  },
  {
   "cell_type": "code",
   "execution_count": 9,
   "metadata": {},
   "outputs": [
    {
     "name": "stdout",
     "output_type": "stream",
     "text": [
      "открытие контекста\n",
      "выход из контекста. \n",
      "время выполнения: 8.400766 секунд\n"
     ]
    }
   ],
   "source": [
    "class Timer():\n",
    "  import time\n",
    "\n",
    "  #def __init__(self):\n",
    "    #print('инициализация')\n",
    "\n",
    "  def __enter__(self):\n",
    "    self._starttime = self.time.perf_counter()\n",
    "    print('открытие контекста')\n",
    "\n",
    "  def __exit__(self, *args):\n",
    "    self._endtime = self.time.perf_counter()\n",
    "    self._time = self._endtime - self._starttime\n",
    "    print(f'выход из контекста. \\nвремя выполнения: {round(self._time,6)} секунд')\n",
    "\n",
    "max_counter_val = 1000000 #TODO\n",
    "\n",
    "def gen_simple_numbers():\n",
    "  import random\n",
    "  import time\n",
    "\n",
    "  i = 1\n",
    "  while True:\n",
    "    time.sleep(random.randint(1,5))\n",
    "    yield i\n",
    "    i += 1\n",
    "\n",
    "def fnum(n):\n",
    "  a, b = 0, 1\n",
    "  for _ in range(n):\n",
    "    yield a\n",
    "    a, b = b, a + b\n",
    "    \n",
    "c = 10**6\n",
    "with Timer() as t:\n",
    "    for i in fnum(c):\n",
    "        pass"
   ]
  },
  {
   "cell_type": "markdown",
   "metadata": {},
   "source": [
    "2.2 Напишите класс менеджера контекста BatchCalculatorContextManager, для вашего проекта калькулятора из предыдущих лабораторных работ. Этот менеджер контекста должен уметь открывать и закрывать текстовый файл, в каждой строчке которого записана пара чисел в сочетании с арифметической операцией над ними в виде простого арифметического выражения без пробелов. В сочетании с дополнительной функцией генератором и вашим менеджером контекста прочитайте все строчки текстового файла и вызовите нужное число раз функцию calculate(...) вашего калькулятора, чтобы распечатать все результаты на экране."
   ]
  },
  {
   "cell_type": "code",
   "execution_count": 10,
   "metadata": {},
   "outputs": [
    {
     "name": "stdout",
     "output_type": "stream",
     "text": [
      "168.0\n",
      "-88.0\n",
      "0.43137254901960786\n",
      "55.0\n"
     ]
    }
   ],
   "source": [
    "class BatchCalculatorContextManager:\n",
    "    def __init__(self, fn):\n",
    "        self.fn = fn\n",
    "        self.f = None\n",
    "\n",
    "    def __enter__(self):\n",
    "        self.f = open(self.fn, 'r')\n",
    "        return self.f\n",
    "\n",
    "    def __exit__(self, exc_type, exc_val, exc_tb):\n",
    "        if self.f:\n",
    "            self.f.close()\n",
    "\n",
    "def calculate(num1, num2, oper):\n",
    "    if oper == '+':\n",
    "        res = num1 + num2\n",
    "    elif oper == '-':\n",
    "        res = num1 - num2\n",
    "    elif oper == '*':\n",
    "        res = num1 * num2\n",
    "    elif oper == '/':\n",
    "        if num2 == 0:\n",
    "            print(\"Деление на ноль невозможно\")\n",
    "            return None\n",
    "        else:\n",
    "            res = num1 / num2\n",
    "    else:\n",
    "        print('Ошибка')\n",
    "        return None\n",
    "    return res\n",
    "\n",
    "fn = 'C:/Users/Arseniy/Desktop/учеба/py/js/123.txt'\n",
    "with BatchCalculatorContextManager(fn) as f:\n",
    "    for line in f:\n",
    "        num1, oper, num2 = line.split()\n",
    "        num1 = float(num1)\n",
    "        num2 = float(num2)\n",
    "        res = calculate(num1, num2, oper)\n",
    "        print(res)"
   ]
  },
  {
   "cell_type": "markdown",
   "metadata": {},
   "source": [
    "Установите локально на свой компьютер объектную базу данных MongoDB.\n",
    "Установите с помощью менеджера пакетов pip или conda, в зависимости от того чем вы пользуетесь, пакет pymongo для подключения к базам данных MongoDB. Например команда для pip: pip install pymongo. С помощью инструмента MongoDB Shell создайте нового пользователя с правами админа, к примеру. Введите в командной строке mongosh без аргументов и уже в командной строке внутри MongoDB Shell введите:\n",
    "db.createUser({\n",
    "user: \"myUserAdmin\",\n",
    "pwd: \"abc123\",\n",
    "roles: [\n",
    "{ role: \"userAdminAnyDatabase\", db: \"admin\" },\n",
    "\"readWriteAnyDatabase\"\n",
    "]\n",
    "})\n",
    "Затем выйдите из MongoDB Shell (Введите exit или нажмите CtrlD). Перезайдите снова в MongoDB Shell с помощью команды mongosh -u myUserAdmin в командной строке и введя пароль abc123. Тем самым вы залогинетесь в базу MongoDB под новой учётной записью. Создайте пустую базу данных myshinynewdb с помощью команды use\n",
    "myshinynewdb. Добавьте коллекцию user в эту базу данных с одной единственной записью: db.user.insert({name: \"Ada Lovelace\", age: 205}). Коллекция будет создана автоматически. Напишите класс менеджера контекста для управляемого подключения к MondoDB и отключения от неё. Внутри блока with с помощью вызова метода user_collection.find({'age': 205}) найдите вашу запись об \"Ada␣Lovelace\" и распечатайте её в терминале."
   ]
  },
  {
   "cell_type": "code",
   "execution_count": 11,
   "metadata": {},
   "outputs": [
    {
     "name": "stdout",
     "output_type": "stream",
     "text": [
      "{'_id': ObjectId('6581ae8fb248d30978e48c72'), 'name': 'Ada Lovelace', 'age': 205}\n"
     ]
    }
   ],
   "source": [
    "from pymongo import MongoClient\n",
    "\n",
    "class MongoDBCollectionContextManager(object):\n",
    "    def __init__(self, host = 'localhost', port = 27017, username = 'admin', password = 'admin'):\n",
    "        self.host = host; self.port = port\n",
    "        self.username = username; self.password = password\n",
    "        self.connection = None\n",
    "\n",
    "    def __enter__(self):\n",
    "        self.connection = MongoClient(\n",
    "            self.host, self.port,\n",
    "            username = self.username, password = self.password,\n",
    "            authMechanism = 'SCRAM-SHA-1')\n",
    "        return self\n",
    "\n",
    "    def __exit__(self, exc_type, exc_val, exc_tb):\n",
    "        self.connection.close()\n",
    "\n",
    "mongo = MongoDBCollectionContextManager(host = 'localhost', port = 27017, username = 'myUserAdmin', password = 'abc123')\n",
    "with mongo as mongo_connection_context:\n",
    "    collection = mongo_connection_context.connection['myshinynewdb']['user']\n",
    "    user = collection.find({'age': 205})\n",
    "    print(next(user))"
   ]
  }
 ],
 "metadata": {
  "kernelspec": {
   "display_name": "Python 3",
   "language": "python",
   "name": "python3"
  },
  "language_info": {
   "codemirror_mode": {
    "name": "ipython",
    "version": 3
   },
   "file_extension": ".py",
   "mimetype": "text/x-python",
   "name": "python",
   "nbconvert_exporter": "python",
   "pygments_lexer": "ipython3",
   "version": "3.11.2"
  }
 },
 "nbformat": 4,
 "nbformat_minor": 2
}
