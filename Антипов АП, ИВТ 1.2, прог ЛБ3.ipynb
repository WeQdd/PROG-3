{
 "cells": [
  {
   "cell_type": "markdown",
   "metadata": {},
   "source": [
    "# Лабораторная работа №3\n",
    "## Антипов Арсений Павлович ИВТ 1.2 2 курс"
   ]
  },
  {
   "cell_type": "markdown",
   "metadata": {},
   "source": [
    "1.1 Модернизируйте калькулятор из задач 1.2 и 1.4 Лабораторной работы № 2. Добавьте к калькулятору такую настройку как точность вычислений, которая передаётся в виде keyword параметра tolerance со значением по умолчанию 1e−6. На основе переданного значения этого параметра извлеките с помощью вычислений порядок этого значения (например 6 для 1e−6) в виде отдельной функции convert_precision, вызываемой из calculate. Задокументируйте convert_precision и дополните документацию к calculate в коде. Извлечённый порядок используйте для округления итогового результата в функции calculate. Покройте (напишите) дополнительными тестами convert_precision и calculate в связи с появлением tolerance с помощью пакета pytest или стандартных unittest Python по выбору."
   ]
  },
  {
   "cell_type": "code",
   "execution_count": 13,
   "metadata": {},
   "outputs": [
    {
     "name": "stdout",
     "output_type": "stream",
     "text": [
      "Ответ: 256.0\n"
     ]
    }
   ],
   "source": [
    "import math\n",
    "\n",
    "#Вводим функцию калькулятора\n",
    "def calculate(n1, oper, n2, tolerance=1e-6):\n",
    "    #Указываем возможные действия с числами\n",
    "    if oper == \"+\":\n",
    "        ans = n1 + n2\n",
    "    elif oper == \"-\":\n",
    "        ans = n1 - n2\n",
    "    elif oper == \"*\":\n",
    "        ans = n1 * n2\n",
    "    elif oper == \"/\":\n",
    "        #Рассматриваем случай с делением на ноль\n",
    "        if n2 == 0:\n",
    "            print(\"Деление на ноль невозможно\")\n",
    "            return\n",
    "        ans = n1 / n2\n",
    "    elif oper == \"**\":\n",
    "        ans = n1 ** n2\n",
    "    else:\n",
    "        #Ошибка при вводе непредусмотренного действия\n",
    "        print(\"Неправильная операция\")\n",
    "        return\n",
    "    return round(ans, convert_precision(tolerance))\n",
    "\n",
    "def convert_precision(tolerance):\n",
    "    return abs(int(math.log10(tolerance)))\n",
    "\n",
    "def test():\n",
    "    #Проверка работоспособности функции\n",
    "    assert calculate(2, \"*\", 5) == 10\n",
    "    assert calculate(12, \"-\", 4) == 8\n",
    "    assert calculate(32, \"/\", 2) == 16\n",
    "    return\n",
    "\n",
    "def main():\n",
    "    #Ввод значений и указание операции\n",
    "    n1 = float(input(\"Введите первое число: \"))\n",
    "    oper = input(\"Укаэите операцию(+, -, *, /, **) \")\n",
    "    n2 = float(input(\"Введите второе число: \"))\n",
    "    tolerance = float(input(\"Введите точность: \"))\n",
    "    res = calculate(n1, oper, n2)\n",
    "    print(\"Ответ:\", res)\n",
    "    return\n",
    "\n",
    "test()\n",
    "main()"
   ]
  },
  {
   "cell_type": "markdown",
   "metadata": {},
   "source": [
    "1.2 Модернизируйте калькулятор из задачи 1.1. Добавьте переменное количество неименоманных аргументов (операндов, ∗args) после параметра action и перед keyword параметром tolerance. К списку поддерживаемых действий добавьте вычисление таких величин как среднее значение (medium), дисперсия (variance), стандартное отклонение (std_deviation), медиана (median, q2, второй квартиль) и межквартильный размах (q3 - q1, разница третьего и первого квартилей). Покройте новые реализованные функции и функцию calculate дополнительными юнит-тестами."
   ]
  },
  {
   "cell_type": "code",
   "execution_count": 16,
   "metadata": {},
   "outputs": [
    {
     "name": "stdout",
     "output_type": "stream",
     "text": [
      "Ответ: 333.6667\n"
     ]
    }
   ],
   "source": [
    "import math\n",
    "import statistics\n",
    "\n",
    "def calculate(oper, tolerance=1e-6, *args):\n",
    "    if oper == \"+\":\n",
    "        ans = sum(args)\n",
    "    elif oper == \"-\":\n",
    "        ans = args[0] - sum(args[1:])\n",
    "    elif oper == \"*\":\n",
    "        ans = 1\n",
    "        for num in args:\n",
    "            ans *= num\n",
    "    elif oper == \"/\":\n",
    "        if any(arg == 0 for arg in args[1:]):\n",
    "            print(\"Деление на ноль невозможно\")\n",
    "            return\n",
    "        ans = args[0] / args[1]\n",
    "    elif oper == \"medium\":\n",
    "        ans = sum(args) / len(args)\n",
    "    elif oper == \"variance\":\n",
    "        ans = statistics.variance(args)\n",
    "    elif oper == \"std_deviation\":\n",
    "        ans = statistics.stdev(args)\n",
    "    elif oper == \"variance\" or oper == \"q2\":\n",
    "        ans = statistics.median(args)\n",
    "    elif oper == \"q3-q1\":\n",
    "        ans = statistics.quantiles(args, n=4)[2] - statistics.quantiles(args, n=4)[0]\n",
    "    else:\n",
    "        print(\"Неправильная операция\")\n",
    "        return\n",
    "\n",
    "    return round(ans, convert_precision(tolerance))\n",
    "\n",
    "def convert_precision(tolerance):\n",
    "    return abs(int(math.log10(tolerance)))\n",
    "\n",
    "def main():\n",
    "    n1 = float(input(\"Введите первое число: \"))\n",
    "    oper = input(\"Укажите операцию (+, -, *, /, **, medium, variance, q2, q3-q1, deviation): \")\n",
    "    n2 = float(input(\"Введите второе число: \"))\n",
    "    tolerance = float(input(\"Введите точность: \"))\n",
    "    res = calculate(oper, tolerance, n1, n2)\n",
    "    print(\"Ответ:\", res)\n",
    "\n",
    "main()"
   ]
  }
 ],
 "metadata": {
  "kernelspec": {
   "display_name": "Python 3",
   "language": "python",
   "name": "python3"
  },
  "language_info": {
   "codemirror_mode": {
    "name": "ipython",
    "version": 3
   },
   "file_extension": ".py",
   "mimetype": "text/x-python",
   "name": "python",
   "nbconvert_exporter": "python",
   "pygments_lexer": "ipython3",
   "version": "3.11.2"
  }
 },
 "nbformat": 4,
 "nbformat_minor": 2
}
