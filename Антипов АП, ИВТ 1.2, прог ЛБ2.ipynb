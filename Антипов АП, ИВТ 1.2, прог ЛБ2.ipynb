{
 "cells": [
  {
   "cell_type": "markdown",
   "metadata": {},
   "source": [
    "# Лабораторная работа № 2\n",
    "## Антипов Арсений Павлович ИВТ 1.2 2 курс"
   ]
  },
  {
   "cell_type": "markdown",
   "metadata": {},
   "source": [
    "1.1 Создание множества. Создайте множество состоящее из любых 5­ти чисел. Выведите его на экран."
   ]
  },
  {
   "cell_type": "code",
   "execution_count": 11,
   "metadata": {},
   "outputs": [
    {
     "name": "stdout",
     "output_type": "stream",
     "text": [
      "{2, 5, 7, 8, 26}\n"
     ]
    }
   ],
   "source": [
    "a = {2, 5, 7, 8, 26}\n",
    "print(a)"
   ]
  },
  {
   "cell_type": "markdown",
   "metadata": {},
   "source": [
    "1.2 Добавление элементов в множество. Создайте множество состоящее из 3­х чисел. Добавьте в него еще два числа. Выведите конечное множество на экран."
   ]
  },
  {
   "cell_type": "code",
   "execution_count": 12,
   "metadata": {},
   "outputs": [
    {
     "name": "stdout",
     "output_type": "stream",
     "text": [
      "{2, 5, 7, 8, 12}\n"
     ]
    }
   ],
   "source": [
    "a = {2, 5, 7}\n",
    "a.add(8)\n",
    "a.add(12)\n",
    "print(a)"
   ]
  },
  {
   "cell_type": "markdown",
   "metadata": {},
   "source": [
    "1.3 Удаление элементов из множества. Создайте множество из 5 чисел. Используя метод remove, удалите два элемента. Выведите конечное множество на экран."
   ]
  },
  {
   "cell_type": "code",
   "execution_count": 13,
   "metadata": {},
   "outputs": [
    {
     "name": "stdout",
     "output_type": "stream",
     "text": [
      "{20, 5, 7}\n"
     ]
    }
   ],
   "source": [
    "a = {2, 5, 7, 15, 20}\n",
    "a.remove(2)\n",
    "a.remove(15)\n",
    "print(a)"
   ]
  },
  {
   "cell_type": "markdown",
   "metadata": {},
   "source": [
    "1.4 Пересечение множеств. Создайте два множества по 3 числа в каждом. Найдите их пересечение и выведите результат на экран."
   ]
  },
  {
   "cell_type": "code",
   "execution_count": 14,
   "metadata": {},
   "outputs": [
    {
     "name": "stdout",
     "output_type": "stream",
     "text": [
      "{5}\n"
     ]
    }
   ],
   "source": [
    "a = {2, 5, 7}\n",
    "b = {3, 5, 15}\n",
    "print(a & b)"
   ]
  },
  {
   "cell_type": "markdown",
   "metadata": {},
   "source": [
    "1.5 Объединение множеств. Создайте два множества по 4 числа в каждом. Найдите их объединение и выведите результат на экран."
   ]
  },
  {
   "cell_type": "code",
   "execution_count": 15,
   "metadata": {},
   "outputs": [
    {
     "name": "stdout",
     "output_type": "stream",
     "text": [
      "{2, 3, 5, 7, 9, 15, 19}\n"
     ]
    }
   ],
   "source": [
    "a = {2, 5, 7, 9}\n",
    "b = {3, 5, 15, 19}\n",
    "print(a | b)"
   ]
  },
  {
   "cell_type": "markdown",
   "metadata": {},
   "source": [
    "1.6 Разность множеств. Создайте два множества по 5 чисел в каждом. Найдите разность первого и второго множества и выводите результат на экран."
   ]
  },
  {
   "cell_type": "code",
   "execution_count": 16,
   "metadata": {},
   "outputs": [
    {
     "name": "stdout",
     "output_type": "stream",
     "text": [
      "{2, 20, 7}\n"
     ]
    }
   ],
   "source": [
    "a = {2, 5, 7, 15, 20}\n",
    "b = {3, 5, 15, 12, 36}\n",
    "print(a - b)"
   ]
  },
  {
   "cell_type": "markdown",
   "metadata": {},
   "source": [
    "1.7 Симметричная разность множеств. Создайте два множества по 3 числа в каждом. Определите их симметричную разность и выведите результат на экран."
   ]
  },
  {
   "cell_type": "code",
   "execution_count": 17,
   "metadata": {},
   "outputs": [
    {
     "name": "stdout",
     "output_type": "stream",
     "text": [
      "{2, 3, 7, 15}\n"
     ]
    }
   ],
   "source": [
    "a = {2, 5, 7}\n",
    "b = {3, 5, 15}\n",
    "print(a ^ b)"
   ]
  },
  {
   "cell_type": "markdown",
   "metadata": {},
   "source": [
    "1.8 Проверка на вхождение элемента в множество. Создайте множество из 5 чисел. Проверьте, присутствует ли число 3 в вашем множестве и выводите результат на экран"
   ]
  },
  {
   "cell_type": "code",
   "execution_count": 18,
   "metadata": {},
   "outputs": [
    {
     "name": "stdout",
     "output_type": "stream",
     "text": [
      "Числа нет\n"
     ]
    }
   ],
   "source": [
    "a = {2, 5, 7, 12, 29}\n",
    "n = 3\n",
    "if n in a:\n",
    "    print('Число есть')\n",
    "else:\n",
    "    print('Числа нет')"
   ]
  },
  {
   "cell_type": "markdown",
   "metadata": {},
   "source": [
    "1.9 Подмножества и надмножества. Создайте два множества, одно из которых будет являться подмножеством другого. Проверьте данное утверждение с использованием соответствующего метода и выведите результат на экран."
   ]
  },
  {
   "cell_type": "code",
   "execution_count": 19,
   "metadata": {},
   "outputs": [
    {
     "name": "stdout",
     "output_type": "stream",
     "text": [
      "True\n"
     ]
    }
   ],
   "source": [
    "a = {2, 5, 7, 12, 29}\n",
    "b = {2, 7, 29}\n",
    "print(b.issubset(a))"
   ]
  },
  {
   "cell_type": "markdown",
   "metadata": {},
   "source": [
    "1.10 Применение множеств в задаче. Дан список чисел с повторяющимися элементами. Необходимо с помощью множества убрать повторяющиеся элементы из списка и вывести итоговый список на экран."
   ]
  },
  {
   "cell_type": "code",
   "execution_count": 20,
   "metadata": {},
   "outputs": [
    {
     "name": "stdout",
     "output_type": "stream",
     "text": [
      "Список: {1, 2, 3, 4, 5, 6}\n",
      "Список без потворяющихся элементов: [1, 2, 3, 4, 5, 6]\n"
     ]
    }
   ],
   "source": [
    "a = {1, 2, 3, 4, 2, 5, 3, 1, 6, 4}\n",
    "b = list(set(a))\n",
    "print(\"Список:\", a)\n",
    "print('Список без потворяющихся элементов:', b)"
   ]
  }
 ],
 "metadata": {
  "kernelspec": {
   "display_name": "Python 3",
   "language": "python",
   "name": "python3"
  },
  "language_info": {
   "codemirror_mode": {
    "name": "ipython",
    "version": 3
   },
   "file_extension": ".py",
   "mimetype": "text/x-python",
   "name": "python",
   "nbconvert_exporter": "python",
   "pygments_lexer": "ipython3",
   "version": "3.11.2"
  }
 },
 "nbformat": 4,
 "nbformat_minor": 2
}
